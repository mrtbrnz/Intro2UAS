{
  "cells": [
    {
      "attachments": {},
      "cell_type": "markdown",
      "metadata": {
        "id": "guF_HxiJEswf"
      },
      "source": [
        "# A Very Simplified MultiCopter Design with Python\n",
        "Objectives : \n",
        "* Get familiar with Colab Notebooks\n",
        "* Learn simple Python\n",
        "* Prepare building blocks for multicopter optmization"
      ]
    },
    {
      "cell_type": "markdown",
      "metadata": {
        "id": "TR6lBbzP7zrJ"
      },
      "source": [
        "<a href=\"https://colab.research.google.com/github/mrtbrnz/Intro2UAS/blob/master/notebooks/00_simple_MultiCopter_design.ipynb\">\n",
        "<img align=\"left\" src=\"https://colab.research.google.com/assets/colab-badge.svg\" alt=\"Open in Colab\" title=\"Open and Execute in Google Colaboratory\"></a>"
      ]
    },
    {
      "cell_type": "markdown",
      "metadata": {
        "deletable": true,
        "editable": true,
        "id": "-ZqacvYUS-Ib"
      },
      "source": [
        "## Introduction to NumPy\n",
        "*This notebook contains several excerpts from the [Python Data Science Handbook](http://shop.oreilly.com/product/0636920034919.do) by Jake VanderPlas; the content is available [on GitHub](https://github.com/jakevdp/PythonDataScienceHandbook).*"
      ]
    },
    {
      "cell_type": "markdown",
      "metadata": {
        "deletable": true,
        "editable": true,
        "id": "GbXmDV7LS-Ic"
      },
      "source": [
        "You can import NumPy and double-check the version:"
      ]
    },
    {
      "cell_type": "code",
      "execution_count": null,
      "metadata": {
        "colab": {
          "base_uri": "https://localhost:8080/",
          "height": 35
        },
        "deletable": true,
        "editable": true,
        "id": "_-5HR0hdS-Id",
        "outputId": "2324dc84-8e5b-46cf-d59b-c05129e7e6a6"
      },
      "outputs": [
        {
          "data": {
            "application/vnd.google.colaboratory.intrinsic+json": {
              "type": "string"
            },
            "text/plain": [
              "'1.21.6'"
            ]
          },
          "execution_count": 1,
          "metadata": {},
          "output_type": "execute_result"
        }
      ],
      "source": [
        "import numpy\n",
        "numpy.__version__"
      ]
    },
    {
      "cell_type": "markdown",
      "metadata": {
        "deletable": true,
        "editable": true,
        "id": "aeGs3EKxS-Ie"
      },
      "source": [
        "By convention, you'll find that most people in the SciPy/PyData world will import NumPy using ``np`` as an alias:"
      ]
    },
    {
      "cell_type": "code",
      "execution_count": 1,
      "metadata": {
        "deletable": true,
        "editable": true,
        "id": "IXHFiR00S-Ie"
      },
      "outputs": [],
      "source": [
        "import numpy as np"
      ]
    },
    {
      "cell_type": "markdown",
      "metadata": {
        "deletable": true,
        "editable": true,
        "id": "e0zS7xgjS-If"
      },
      "source": [
        "## Reminder about Built In Documentation\n",
        "\n",
        "For example, to display all the contents of the numpy namespace, you can type this:\n",
        "\n",
        "```ipython\n",
        "In [3]: np.<TAB>\n",
        "```\n",
        "\n",
        "And to display NumPy's built-in documentation, you can use this:\n",
        "\n",
        "```ipython\n",
        "In [4]: np?\n",
        "```\n",
        "\n",
        "More detailed documentation, along with tutorials and other resources, can be found at http://www.numpy.org."
      ]
    },
    {
      "cell_type": "code",
      "execution_count": null,
      "metadata": {
        "id": "g_7uGVx2j85L"
      },
      "outputs": [],
      "source": [
        "# Try here !\n",
        "np?"
      ]
    },
    {
      "cell_type": "code",
      "execution_count": null,
      "metadata": {
        "id": "7s9rwXswj8jY"
      },
      "outputs": [],
      "source": []
    },
    {
      "cell_type": "markdown",
      "metadata": {
        "id": "z47kNtuYVaVy"
      },
      "source": [
        "Users of Python are often drawn-in by its ease of use, one piece of which is dynamic typing.\n",
        "While a statically-typed language like C or Java requires each variable to be explicitly declared, a dynamically-typed language like Python skips this specification. For example, in C you might specify a particular operation as follows:\n",
        "\n",
        "```C\n",
        "/* C code */\n",
        "int result = 0;\n",
        "for(int i=0; i<100; i++){\n",
        "    result += i;\n",
        "}\n",
        "```\n",
        "\n",
        "While in Python the equivalent operation could be written this way:\n",
        "\n",
        "```python\n",
        "# Python code\n",
        "result = 0\n",
        "for i in range(100):\n",
        "    result += i\n",
        "```\n",
        "\n",
        "Notice the main difference: in C, the data types of each variable are explicitly declared, while in Python the types are dynamically inferred. This means, for example, that we can assign any kind of data to any variable:\n",
        "\n",
        "```python\n",
        "# Python code\n",
        "x = 4\n",
        "x = \"four\"\n",
        "```"
      ]
    },
    {
      "cell_type": "markdown",
      "metadata": {
        "id": "zkmDx5Kghzj2"
      },
      "source": [
        "## A Python List Is More Than Just a List\n",
        "\n",
        "```ipython\n",
        "L = list(range(10))\n",
        "L\n",
        "```\n",
        "\n",
        "```ipython\n",
        "L2 = [str(c) for c in L]\n",
        "L2\n",
        "```\n",
        "\n",
        "```ipython\n",
        "L3 = [True, \"2\", 3.0, 4]\n",
        "[type(item) for item in L3]\n",
        "```\n"
      ]
    },
    {
      "cell_type": "code",
      "execution_count": null,
      "metadata": {
        "colab": {
          "base_uri": "https://localhost:8080/"
        },
        "id": "uaFmpzENUGAD",
        "outputId": "49ad19ba-ed48-4d96-d5cc-cccee64afacb"
      },
      "outputs": [
        {
          "data": {
            "text/plain": [
              "[0, 1, 2, 3, 4, 5, 6, 7, 8, 9]"
            ]
          },
          "execution_count": 5,
          "metadata": {},
          "output_type": "execute_result"
        }
      ],
      "source": [
        "#Try here\n",
        "L = list(range(10))\n",
        "L"
      ]
    },
    {
      "cell_type": "code",
      "execution_count": null,
      "metadata": {
        "colab": {
          "base_uri": "https://localhost:8080/"
        },
        "id": "gCcrRlmTUF1K",
        "outputId": "5bd10e1c-893f-4510-aa17-112975f6a822"
      },
      "outputs": [
        {
          "data": {
            "text/plain": [
              "['0', '1', '2', '3', '4', '5', '6', '7', '8', '9']"
            ]
          },
          "execution_count": 6,
          "metadata": {},
          "output_type": "execute_result"
        }
      ],
      "source": [
        "L2 = [str(c) for c in L]\n",
        "L2"
      ]
    },
    {
      "cell_type": "code",
      "execution_count": null,
      "metadata": {
        "id": "fuPeM83uUFyW"
      },
      "outputs": [],
      "source": [
        "L3 = [True, \"2\", 3.0, 4]\n",
        "L4 = [type(item) for item in L3]"
      ]
    },
    {
      "cell_type": "code",
      "execution_count": null,
      "metadata": {
        "colab": {
          "base_uri": "https://localhost:8080/"
        },
        "id": "lU-Giry8BmR6",
        "outputId": "146c73c8-3fd3-43d1-bff3-96507afbf4e5"
      },
      "outputs": [
        {
          "name": "stdout",
          "output_type": "stream",
          "text": [
            "[True, '2', 3.0, 4]\n",
            "[<class 'bool'>, <class 'str'>, <class 'float'>, <class 'int'>]\n"
          ]
        }
      ],
      "source": [
        "print(L3)\n",
        "print(L4)"
      ]
    },
    {
      "cell_type": "code",
      "execution_count": null,
      "metadata": {
        "id": "f4afNPA2UFsm"
      },
      "outputs": [],
      "source": []
    },
    {
      "cell_type": "markdown",
      "metadata": {
        "id": "nYgvN1_ZzS2-"
      },
      "source": [
        "## Create arrays\n",
        "\n",
        "```ipython\n",
        "np.arange(5)\n",
        "```\n",
        "```ipython\n",
        "np.linspace(1,10,10)\n",
        "```\n",
        "```ipython\n",
        "np.\n",
        "```\n",
        "```ipython\n",
        "np.\n",
        "```"
      ]
    },
    {
      "cell_type": "code",
      "execution_count": 4,
      "metadata": {
        "colab": {
          "base_uri": "https://localhost:8080/"
        },
        "id": "S0Lwo1h78Pzo",
        "outputId": "a8b68e74-9c2b-4cd5-84b9-45771ffe66e4"
      },
      "outputs": [
        {
          "data": {
            "text/plain": [
              "array([ 1.        ,  1.47368421,  1.94736842,  2.42105263,  2.89473684,\n",
              "        3.36842105,  3.84210526,  4.31578947,  4.78947368,  5.26315789,\n",
              "        5.73684211,  6.21052632,  6.68421053,  7.15789474,  7.63157895,\n",
              "        8.10526316,  8.57894737,  9.05263158,  9.52631579, 10.        ])"
            ]
          },
          "execution_count": 4,
          "metadata": {},
          "output_type": "execute_result"
        }
      ],
      "source": [
        "# Try here:\n",
        "np.linspace(1,10,20)\n"
      ]
    },
    {
      "cell_type": "markdown",
      "metadata": {
        "id": "KtacifW6lqSV"
      },
      "source": [
        "## Lets plot something"
      ]
    },
    {
      "cell_type": "code",
      "execution_count": 2,
      "metadata": {
        "id": "fRoF33C9UFlA"
      },
      "outputs": [],
      "source": [
        "%matplotlib inline\n",
        "import matplotlib.pyplot as plt\n",
        "import seaborn; seaborn.set()  # set plot style"
      ]
    },
    {
      "cell_type": "code",
      "execution_count": 6,
      "metadata": {
        "colab": {
          "base_uri": "https://localhost:8080/",
          "height": 285
        },
        "id": "X_12wlCoHVjo",
        "outputId": "384e9480-f4d9-4359-dad9-8c55879cefce"
      },
      "outputs": [
        {
          "name": "stderr",
          "output_type": "stream",
          "text": [
            "Fontconfig warning: ignoring UTF-8: not a valid region tag\n"
          ]
        },
        {
          "data": {
            "text/plain": [
              "[<matplotlib.lines.Line2D at 0x130730e80>]"
            ]
          },
          "execution_count": 6,
          "metadata": {},
          "output_type": "execute_result"
        },
        {
          "data": {
            "image/png": "[encoded data removed]",
            "text/plain": [
              "<Figure size 640x480 with 1 Axes>"
            ]
          },
          "metadata": {},
          "output_type": "display_data"
        }
      ],
      "source": [
        "x = [0, 1, 2, 3, 4, 5, 6, 7]\n",
        "y = [0.1, 2.2, 1.2, 2.5, 1.8, 0.4, 3, 8]\n",
        "plt.plot(x,y,'--*')"
      ]
    },
    {
      "cell_type": "code",
      "execution_count": null,
      "metadata": {
        "colab": {
          "base_uri": "https://localhost:8080/"
        },
        "id": "96rxwZOqEXhs",
        "outputId": "18b04c3e-fb6a-406a-95d8-2681a7228068"
      },
      "outputs": [
        {
          "data": {
            "text/plain": [
              "8"
            ]
          },
          "execution_count": 27,
          "metadata": {},
          "output_type": "execute_result"
        }
      ],
      "source": [
        "len(y)"
      ]
    },
    {
      "cell_type": "code",
      "execution_count": null,
      "metadata": {
        "id": "-bpHPzytUFiS"
      },
      "outputs": [],
      "source": [
        "# data = np.random.randint(1,5,6)\n",
        "data = np.random.rand(200)*22"
      ]
    },
    {
      "cell_type": "code",
      "execution_count": null,
      "metadata": {
        "colab": {
          "base_uri": "https://localhost:8080/"
        },
        "id": "Wd16pMHAUFUs",
        "outputId": "cae68841-63d4-4616-a119-622798494479"
      },
      "outputs": [
        {
          "data": {
            "text/plain": [
              "array([ 5.82624399, 16.17118399, 17.87558947, 15.58412106,  7.16310831,\n",
              "       18.8216645 , 12.76277975, 21.68900827,  2.24344965,  3.6365953 ,\n",
              "       10.52760425,  1.05257786, 19.61236161, 14.07485954,  0.75873624,\n",
              "        0.15396114,  0.45594094,  3.47758406,  0.643903  ,  5.23715156,\n",
              "       15.032692  , 11.29813886, 14.76326258,  1.8691944 ,  8.35709543,\n",
              "       18.59882791,  2.14864364, 15.32563765, 21.04392312, 18.64078908,\n",
              "       18.36408394,  1.00755034, 14.52592502,  3.83123488,  4.01635298,\n",
              "        6.88849284,  5.47060972, 15.99333335, 21.119166  ,  0.52674247,\n",
              "       13.86236588,  2.50539084, 12.68753937, 13.49075213, 16.36571961,\n",
              "       20.59371707,  1.25280869,  7.12803519, 10.48833847,  2.51005617,\n",
              "       12.90550337, 13.81616806, 18.83212487,  0.09085619, 18.75585332,\n",
              "       16.85360524,  1.13784278,  2.42600967,  8.71562662,  4.28820606,\n",
              "       11.52813568, 15.74703623, 21.13280254, 12.75322431, 18.46562696,\n",
              "       20.57486515,  2.06961151, 15.98744052, 20.63257244,  0.08625699,\n",
              "       17.93782282, 10.74351656,  4.94294828, 10.23425251, 19.85719067,\n",
              "        8.47205629, 16.59339135,  4.87168116, 14.17688524,  1.26057141,\n",
              "        6.57614257,  2.36277819, 21.91086481, 21.08324454,  0.63498642,\n",
              "        8.17257506,  7.49368082,  0.20616385,  8.27026717,  8.92892972,\n",
              "        7.22438818,  2.36467512,  2.1330769 ,  6.47517633, 20.98441389,\n",
              "       20.98716823,  7.34265638, 21.84691477, 18.53735598, 14.77859785,\n",
              "       18.62344595,  8.38062211, 15.1396659 , 19.4685404 ,  3.11691541,\n",
              "        8.54101834, 16.60506302, 17.2399295 , 15.22164269,  8.87241664,\n",
              "        6.19183003,  9.18003489,  2.28370637, 11.97157852,  8.81426416,\n",
              "        9.49560085, 11.54166598,  0.67027527, 11.18481247, 10.24861205,\n",
              "        1.44881346,  9.81776965, 18.42713999, 13.46301347, 18.62376687,\n",
              "       10.08479456,  5.9777925 , 15.5668439 ,  6.42899861,  7.97873163,\n",
              "       10.59801789,  0.54747209, 15.85396078, 11.40376736, 19.25336757,\n",
              "        4.58105044, 18.40137   ,  5.77750692,  0.52528562, 11.72966152,\n",
              "       13.35228452, 11.59814124,  1.56984237,  6.68376124,  9.14167931,\n",
              "        3.77563216,  6.52583606,  1.8089304 ,  8.85111464, 14.04675259,\n",
              "       20.47008804, 12.46755206, 18.28064118, 10.66729356, 18.41344422,\n",
              "       17.48650785,  6.61594818, 16.98337282, 11.40008719,  7.32407421,\n",
              "       18.96409656, 19.09375302, 10.63695385, 18.59242947, 16.06408829,\n",
              "        7.38748023,  6.44606442, 21.84703715, 18.26547144, 15.19468131,\n",
              "       14.90012941, 19.91562444,  6.4880999 , 11.17472408, 15.28544235,\n",
              "       20.75846661,  6.65256581, 11.55253627,  8.99447464,  4.45697514,\n",
              "       14.54327408, 10.6902347 ,  4.55616227,  6.14937861,  0.17713207,\n",
              "       14.24777945,  9.11056491,  6.42064048, 21.89285268, 19.25881909,\n",
              "        4.39162738, 16.4897813 , 14.2966759 , 18.23596807,  5.70868689,\n",
              "       21.59619964, 13.89348324, 14.68860897, 11.79094842, 16.27142494])"
            ]
          },
          "execution_count": 38,
          "metadata": {},
          "output_type": "execute_result"
        }
      ],
      "source": [
        "data"
      ]
    },
    {
      "cell_type": "code",
      "execution_count": null,
      "metadata": {
        "colab": {
          "base_uri": "https://localhost:8080/",
          "height": 301
        },
        "id": "2-D5IErvUFb3",
        "outputId": "d3a6a606-bba2-49a9-d442-5f9ff48e6803"
      },
      "outputs": [
        {
          "data": {
            "image/png": "[encoded data removed]",
            "text/plain": [
              "<Figure size 432x288 with 1 Axes>"
            ]
          },
          "metadata": {},
          "output_type": "display_data"
        }
      ],
      "source": [
        "plt.plot(data)\n",
        "plt.title('Random Data points')\n",
        "plt.xlabel('number of samples')\n",
        "plt.ylabel('random values');"
      ]
    },
    {
      "cell_type": "code",
      "execution_count": null,
      "metadata": {
        "id": "jsLg-3rqUFSH"
      },
      "outputs": [],
      "source": [
        "# seaborn.reset_orig()\n",
        "seaborn.set()"
      ]
    },
    {
      "cell_type": "code",
      "execution_count": null,
      "metadata": {
        "id": "BOmjReBKUFKZ"
      },
      "outputs": [],
      "source": [
        "# x and y have 50 steps from 0 to 5\n",
        "x = np.linspace(0, 5, 50)\n",
        "y = np.linspace(0, 5, 50)[:, np.newaxis]\n",
        "\n",
        "z = np.sin(x) ** 10 + np.cos(10 + y * x) * np.cos(x)"
      ]
    },
    {
      "cell_type": "code",
      "execution_count": null,
      "metadata": {
        "colab": {
          "base_uri": "https://localhost:8080/",
          "height": 272
        },
        "id": "K1b6jooPUEs-",
        "outputId": "2f0f27fa-a3e9-4ca1-8b07-bc1005f10b0f"
      },
      "outputs": [
        {
          "data": {
            "image/png": "[encoded data removed]",
            "text/plain": [
              "<Figure size 432x288 with 2 Axes>"
            ]
          },
          "metadata": {},
          "output_type": "display_data"
        }
      ],
      "source": [
        "plt.imshow(z, origin='lower', extent=[0, 5, 0, 5], cmap='viridis')\n",
        "plt.colorbar();"
      ]
    },
    {
      "cell_type": "code",
      "execution_count": null,
      "metadata": {
        "id": "uDVqz2bBGaBY"
      },
      "outputs": [],
      "source": []
    },
    {
      "cell_type": "code",
      "execution_count": null,
      "metadata": {
        "id": "eLZt-rMAGZdc"
      },
      "outputs": [],
      "source": []
    },
    {
      "cell_type": "markdown",
      "metadata": {
        "id": "TpUvdpYdycRk"
      },
      "source": [
        "## Now, let's move onto a real example !\n",
        "(Example from Antoine Drouin)\n",
        "\n",
        "International Standard Atmosphere Model\n",
        "see:\n",
        " http://en.wikipedia.org/wiki/International_Standard_Atmosphere\n"
      ]
    },
    {
      "cell_type": "code",
      "execution_count": null,
      "metadata": {
        "id": "NHcE-1DEooq2"
      },
      "outputs": [],
      "source": [
        "'''\n",
        "International Standard Atmosphere Model\n",
        "see: http://en.wikipedia.org/wiki/International_Standard_Atmosphere\n",
        "'''\n",
        "_name, _h0, _z0, _a, _T0, _p0 = np.arange(6)\n",
        "#      name         h(m)    z(km)    a(K/m)    T0(K)    p0(Pa)\n",
        "param = \\\n",
        "[['Troposphere',       0,   0.0,    -6.5e-3,   288.15,   101325],\n",
        " ['Tropopause',    11000,  11.019,   0.,       216.65,    22632],\n",
        " ['Stratosphere',  20000,  20.063,   1.0e-3,   216.65,   5474.9],\n",
        " ['Stratosphere',  32000,  32.162,   2.8e-3,   228.65,   868.02],\n",
        " ['Stratopause',   47000,  47.350,   0.0e-3,   270.65,   110.91],\n",
        " ['Mesosphere',    51000,  51.413,  -2.8e-3,   270.65,   66.939],\n",
        " ['Mesosphere',    71000,  71.802,  -2.0e-3,   214.65,   3.9564],\n",
        " ['Mesopause',     84852,  86.000,   0.,       186.87,   0.3734]]"
      ]
    },
    {
      "cell_type": "code",
      "execution_count": null,
      "metadata": {
        "id": "ArGjSKnfoojf"
      },
      "outputs": [],
      "source": [
        "import math\n",
        "\n",
        "def mach_of_va(va, T, k=1.4, Rs=287.05): return va/np.sqrt(k*Rs*T)\n",
        "\n",
        "def get_rho(h):\n",
        "    \"\"\"\n",
        "    Get air density at the given altitude (in m)\n",
        "    Warning, the two parts of that function do not\n",
        "    join well!\n",
        "    \"\"\"\n",
        "    if h<= 11000:\n",
        "        return 1.225 * math.pow((1-6.5e-3*h/288.15), 4.2557)\n",
        "    else:\n",
        "        return 0.36 * np.exp(-1.17e-4*(h-11000))\n",
        "\n",
        "def isa(h):\n",
        "    layer = 0\n",
        "    while param[layer][_h0] < h: layer+=1\n",
        "    name, h0, z0, a, T0, p0 = param[layer-1]\n",
        "    dh = h - h0\n",
        "    T = T0 + a*dh\n",
        "    g=9.81; R=287.0\n",
        "    if a != 0.:\n",
        "        p = p0*math.pow(T/T0, -g/a/R)\n",
        "    else:\n",
        "        p = p0*math.exp(-g/R/T0*dh)\n",
        "    rho = p/R/T\n",
        "    return p, rho, T"
      ]
    },
    {
      "cell_type": "code",
      "execution_count": null,
      "metadata": {
        "colab": {
          "base_uri": "https://localhost:8080/"
        },
        "id": "bXbRsrv3IoYk",
        "outputId": "b4523217-9ad0-424f-bd9f-a3718eeb470c"
      },
      "outputs": [
        {
          "data": {
            "text/plain": [
              "(101204.86307898168, 1.224049099898249, 288.085)"
            ]
          },
          "execution_count": 48,
          "metadata": {},
          "output_type": "execute_result"
        }
      ],
      "source": [
        "# get_rho(10)\n",
        "isa(10)"
      ]
    },
    {
      "cell_type": "code",
      "execution_count": null,
      "metadata": {
        "id": "rr42oRPBzFfD"
      },
      "outputs": [],
      "source": [
        "def decorate(ax, title=None, xlab=None, ylab=None, legend=None):\n",
        "    ax.xaxis.grid(color='k', linestyle='-', linewidth=0.2)\n",
        "    ax.yaxis.grid(color='k', linestyle='-', linewidth=0.2)\n",
        "    if xlab:\n",
        "        ax.xaxis.set_label_text(xlab)\n",
        "    if ylab:\n",
        "        ax.yaxis.set_label_text(ylab)\n",
        "    if title:\n",
        "        ax.set_title(title, {'color'    : 'k', 'fontsize'   : 20 })\n",
        "    if legend != None:\n",
        "        ax.legend(legend, loc='best')\n",
        "\n",
        "def plot_atmosphere(h0=1, h1=84000):\n",
        "    h = np.linspace(h0, h1, 1000)\n",
        "    v = np.array(list(map(isa, h)))\n",
        "    v1 = np.array(list(map(get_rho, h)))\n",
        "    # print(v1)\n",
        "    #pdb.set_trace()\n",
        "    \n",
        "    ax = plt.subplot(1, 3, 1)\n",
        "    plt.plot(v[:,2], h)\n",
        "    decorate(ax, 'Temperature', 'K', 'm')\n",
        "    ax = plt.subplot(1, 3, 2)\n",
        "    plt.plot(v[:,1], h)\n",
        "    plt.plot(v1, h, 'r')\n",
        "    decorate(ax, 'Density', 'Kg/m3', 'm')\n",
        "    ax = plt.subplot(1, 3, 3)\n",
        "    plt.plot(v[:,0], h)\n",
        "    decorate(ax, 'Pressure', 'Pa', 'm')\n",
        "    plt.show()"
      ]
    },
    {
      "cell_type": "code",
      "execution_count": null,
      "metadata": {
        "colab": {
          "base_uri": "https://localhost:8080/",
          "height": 323
        },
        "id": "H2_q4KoFzfmL",
        "outputId": "49570bcf-edb8-4b93-f765-5525f4b98dc8"
      },
      "outputs": [
        {
          "name": "stdout",
          "output_type": "stream",
          "text": [
            "ISA at 1m : 101312.98111336395 Pa 1.225107985548939 kg/m3 288.14349999999996 K\n"
          ]
        },
        {
          "data": {
            "image/png": "[encoded data removed]",
            "text/plain": [
              "<Figure size 432x288 with 3 Axes>"
            ]
          },
          "metadata": {},
          "output_type": "display_data"
        }
      ],
      "source": [
        "h = 1\n",
        "print(f\"ISA at {h}m : {isa(h)[0]} Pa {isa(h)[1]} kg/m3 {isa(h)[2]} K\")\n",
        "\n",
        "plot_atmosphere(h0=1, h1=84000)"
      ]
    },
    {
      "cell_type": "code",
      "execution_count": null,
      "metadata": {
        "colab": {
          "base_uri": "https://localhost:8080/"
        },
        "id": "b0zsKm82zfjq",
        "outputId": "098ea328-a452-4e07-f138-8c8a7517700a"
      },
      "outputs": [
        {
          "data": {
            "text/plain": [
              "(89868.89533000505, 1.1117771683911577, 281.65)"
            ]
          },
          "execution_count": 52,
          "metadata": {},
          "output_type": "execute_result"
        }
      ],
      "source": [
        "# Try to get ISA rho at an altitude:\n",
        "isa(1000)"
      ]
    },
    {
      "cell_type": "markdown",
      "metadata": {
        "id": "lJ5Qg_LX9jrq"
      },
      "source": [
        "# Propeller Force\n",
        "\n",
        "We can simplify the thrust as the mass flow rate difference of input and output of the propeller disk \n",
        "\n",
        "$F = \\dot{m}(V_e-V_0)$\n",
        "\n",
        "Mass flow rate is : \\\n",
        "$\\dot{m}=\\rho A V_e$ \n",
        "\n",
        "Propeller disc area is : \\\n",
        "$A = \\frac{\\pi d^2}{4}$\n",
        "\n",
        "Total Thrust can be written as \\\n",
        "$F =\\rho\\frac{\\pi d^2}{4} (V_e^2- V_eV_0)$  \n",
        "\n",
        "Where we can approximate the exit veocity as \\\n",
        "$V_e = \\eta_{prop}V_{pitch}$\n",
        "\n",
        "A very simplified way of defining the pitch speed of the proppeler\n",
        "\n",
        "$V_{pitch} = RPM_{prop} Prop_{pitch}$  with units in $[inches/minutes]$\n",
        "\n",
        "So convert to m/s by multipliying with 0.0254/60..."
      ]
    },
    {
      "cell_type": "code",
      "execution_count": 32,
      "metadata": {
        "id": "taN8JiWKzfXk"
      },
      "outputs": [],
      "source": [
        "prop_pitch = 5 #inches\n",
        "prop_diameter = 5 #inches\n",
        "cd_arm   = 1.5 # drag coefficient of the arms (source: Hoerner)\n",
        "cd_frame = 1.2 # Realistic for a bluff body\n",
        "area_arm = 0.01*prop_diameter*0.0254/2  #m^2, area of the arms below the propeller, constant thickness of 1cm          \n",
        "angle_tilted_body = 0/180*np.pi #rad, how much is the nose of the frame tilted up in the design\n",
        "frame_width = 0.05 #m\n",
        "frame_length = 0.17 #m\n",
        "area_frame_frontal = frame_width**2 # m^2 area of the main body of the frame as viewed from the front \n",
        "area_frame_dorsal  = frame_width*frame_length # m^2 area of the main body of the frame as viewed from the top \n",
        "gee = 9.81 # Gravitational acceleration"
      ]
    },
    {
      "cell_type": "code",
      "execution_count": 8,
      "metadata": {
        "id": "VA5_PZTQI4U4"
      },
      "outputs": [],
      "source": [
        "# Write a function that estimates the force of a propeller\n",
        "# Use RPM and V_0 as an input\n",
        "def prop_force(RPM, V_0=0):\n",
        "    prop_eff = 0.65 # Guesssing a value between 0.5 - 0.75\n",
        "    rho = 1.225 # Get this out of ISA\n",
        "    V_pitch = RPM*prop_pitch/60*0.0254\n",
        "    V_e = prop_eff * V_pitch\n",
        "    A = np.pi*(prop_diameter/2*0.0254)**2\n",
        "    m_dot = A*V_e*rho\n",
        "    force = rho*A*(V_e**2-V_e*V_0)\n",
        "    return force"
      ]
    },
    {
      "cell_type": "code",
      "execution_count": 9,
      "metadata": {
        "colab": {
          "base_uri": "https://localhost:8080/"
        },
        "id": "8kf4xMIzNyk8",
        "outputId": "aa7c1446-13da-48ca-fd04-4b3fe2d89668"
      },
      "outputs": [
        {
          "data": {
            "text/plain": [
              "0.6476186944422351"
            ]
          },
          "execution_count": 9,
          "metadata": {},
          "output_type": "execute_result"
        }
      ],
      "source": [
        "prop_force(20000, 26)"
      ]
    },
    {
      "cell_type": "markdown",
      "metadata": {
        "id": "S1XKCjYl7zrU"
      },
      "source": [
        "## Estimate the mass\n",
        "* Battery\n",
        "* Fuselage\n",
        "* Arms\n",
        "* Avionics (Autopilot, modem, receiver,etc...)\n",
        "* ..."
      ]
    },
    {
      "cell_type": "code",
      "execution_count": 10,
      "metadata": {
        "colab": {
          "base_uri": "https://localhost:8080/"
        },
        "id": "hFujvmuC7zrU",
        "outputId": "01d046f4-c032-4c20-dfa4-0bd21cbc942b"
      },
      "outputs": [
        {
          "data": {
            "text/plain": [
              "0.5677777777777778"
            ]
          },
          "execution_count": 10,
          "metadata": {},
          "output_type": "execute_result"
        }
      ],
      "source": [
        "def estimate_mass(num_motors=4, batt_cap=50, k_mat=0.01, m_avionics=0.04, m_payload=0.05):\n",
        "    '''Updates the total mass estimation'''\n",
        "    k_batt = 180. # Wh/kg\n",
        "    m_batt = batt_cap/k_batt\n",
        "    m_frame = k_mat*prop_diameter*num_motors # mass of the frame per inches \n",
        "    mass = m_payload + m_avionics + m_frame + m_batt\n",
        "    return mass\n",
        "\n",
        "estimate_mass()"
      ]
    },
    {
      "cell_type": "markdown",
      "metadata": {
        "id": "LSszNsdfOvft"
      },
      "source": [
        "# Now write a function that finds the hover thrust\n",
        "* Input only RPM again\n"
      ]
    },
    {
      "cell_type": "code",
      "execution_count": 33,
      "metadata": {
        "id": "Q2cfOyIvP01p"
      },
      "outputs": [
        {
          "name": "stdout",
          "output_type": "stream",
          "text": [
            " Required RPM for each propeller : 6890\n"
          ]
        }
      ],
      "source": [
        "# Define the constants, and design parameters\n",
        "# Estimate the mass\n",
        "# Find the thrust that has to be generated by each motor\n",
        "# Iterate over RPM to reach that thrust\n",
        "# Extra : you can take into account the drag of the arms as downforce (If we have time in the class!)\n",
        "num_motors = 4\n",
        "mass = estimate_mass()\n",
        "#Initial thrust set to zero\n",
        "thrust = 0.\n",
        "# Initiate the RPM to zero\n",
        "RPM=0\n",
        "# Iterate the RPM to reach required thrust !\n",
        "while mass*gee/num_motors >= thrust:\n",
        "    RPM +=10\n",
        "    thrust = prop_force(RPM)\n",
        "print(f' Required RPM for each propeller : {RPM}')"
      ]
    },
    {
      "cell_type": "code",
      "execution_count": 34,
      "metadata": {},
      "outputs": [
        {
          "name": "stdout",
          "output_type": "stream",
          "text": [
            "6885.114550169183\n"
          ]
        }
      ],
      "source": [
        "# We can write the above more efficiently by using an optimization algorithm such as Newton-Raphson (secant or Haley's according to the fprime functions...)\n",
        "# ref : https://docs.scipy.org/doc/scipy/reference/generated/scipy.optimize.newton.html\n",
        "# The function should be re-written to converge towards zero for the wanted value:\n",
        "from scipy import optimize\n",
        "\n",
        "def find_hover_rpm(rpm):\n",
        "    thrust = prop_force(rpm)\n",
        "    return (mass*gee/num_motors)-thrust\n",
        "\n",
        "hover_rpm = optimize.newton(find_hover_rpm, 1000.)\n",
        "print(hover_rpm)"
      ]
    },
    {
      "cell_type": "markdown",
      "metadata": {
        "id": "JewYdS7AV-YU"
      },
      "source": [
        "## If we assume zero vertical movement, any excessive RPM more than the hover will result in forward movement as the multicopter will require to pitch down.\n",
        "\n",
        "* Let's calculate the drag force and resultant forward velocity"
      ]
    },
    {
      "cell_type": "code",
      "execution_count": 50,
      "metadata": {},
      "outputs": [
        {
          "name": "stdout",
          "output_type": "stream",
          "text": [
            " Theta : 4.585987261146497deg, V : 3.5358460177986646 , drag : 0.029141271741976116 \n"
          ]
        },
        {
          "data": {
            "text/plain": [
              "(0.08, 3.5358460177986646, 0.029141271741976116)"
            ]
          },
          "execution_count": 50,
          "metadata": {},
          "output_type": "execute_result"
        }
      ],
      "source": [
        "# First decide the RPM\n",
        "RPM = 8000\n",
        "# Feed RPM to the function that calculates the level translation speed and drag of the multicopter\n",
        "calc_level_V_and_drag(RPM)"
      ]
    },
    {
      "cell_type": "markdown",
      "metadata": {
        "id": "kISX0VX9NXO2"
      },
      "source": [
        "# Drag Force\n",
        "\n"
      ]
    },
    {
      "cell_type": "code",
      "execution_count": 47,
      "metadata": {
        "id": "1-wBWhSfKL5q"
      },
      "outputs": [],
      "source": [
        "def calc_level_V_and_drag(rpm):\n",
        "    # Initial Total Thrust from all motors at zero forward speed\n",
        "    T_total = prop_force(rpm, V_0=0.)*num_motors\n",
        "    # Find bank angle , initiate drag and theta to zero for start\n",
        "    drag = 0. ; theta = 0. ; V=0.\n",
        "    while T_total*np.sin(theta) >= drag and T_total*np.cos(theta) >= mass*gee:\n",
        "        theta += 0.01\n",
        "        # required forward thrust component\n",
        "        T_forward = np.tan(theta) * mass*gee\n",
        "        # Final velocity from given acceleration (assume 1s of impulse)\n",
        "        V += T_forward/mass\n",
        "        # Drag of the fuselage\n",
        "        area_frame_horizontal = np.abs(np.sin(theta-angle_tilted_body)*area_frame_dorsal) + np.abs(np.cos(theta-angle_tilted_body)*area_frame_frontal) #m^2\n",
        "        # Optional : Drag of the motor arms embedded inside propeller slipstream\n",
        "        # Final drag\n",
        "        drag = 0.5 * 1.225 * V**2 * area_frame_horizontal * cd_frame\n",
        "        T_total = prop_force(rpm, V_0=V)*num_motors\n",
        "        \n",
        "    print(f' Theta : {theta*180/3.14}deg, V : {V} , drag : {drag} ')\n",
        "    return theta, V, drag"
      ]
    },
    {
      "cell_type": "code",
      "execution_count": null,
      "metadata": {},
      "outputs": [],
      "source": []
    },
    {
      "cell_type": "markdown",
      "metadata": {
        "id": "uqjwfb057zrV"
      },
      "source": [
        "# Required Power\n",
        "Required mechanical power from motor is torque times rpm (rad/s)!\n",
        "\n",
        "$P_{req} = Q_{propeller} \\Omega $\n",
        "\n",
        "where   $\\Omega = RPM 2 \\pi /60$\n",
        "\n",
        "and $Q_{propeller}$ is proportional to Thrust such as \n",
        "\n",
        "$T = 1/2 \\rho (\\Omega R)^2 \\pi R^2 C_{T}$\n",
        "\n",
        "$Q = 1/2 \\rho (\\Omega R)^2 \\pi R^3 C_{P}$\n",
        "\n",
        "This can be used to approximate a power requirement with respect to RPM \n",
        "\n"
      ]
    },
    {
      "cell_type": "code",
      "execution_count": 59,
      "metadata": {},
      "outputs": [
        {
          "data": {
            "text/plain": [
              "123.48124885806773"
            ]
          },
          "execution_count": 59,
          "metadata": {},
          "output_type": "execute_result"
        }
      ],
      "source": [
        "# Try that now :\n",
        "def power_required(rpm, V):\n",
        "    # An efficiency can be use such as L/D ratio to define the ratio between Thrust and Drag, and Torque is directly proportional to drag...\n",
        "    T_over_D = 2.\n",
        "    T = prop_force(rpm, V_0=V)\n",
        "    Q = T * prop_diameter*0.0254/2 # multiplied with R\n",
        "    P_required = Q * rpm * 2. * np.pi / 60. / T_over_D\n",
        "\n",
        "    return P_required\n",
        "\n",
        "power_required(24000, 30)\n",
        "# power_required(8000, 3)"
      ]
    },
    {
      "cell_type": "markdown",
      "metadata": {
        "id": "8shEJaYe0zaR"
      },
      "source": [
        "# Now Create a MultiCopter Class\n",
        "\n",
        "*   Initiates with default values and coeffs\n",
        "*   Estimates total mass\n",
        "*   Calculates total drag at a given flight speed\n",
        "*   Calculates total propulsion consumption at that flight speed\n",
        "\n"
      ]
    },
    {
      "cell_type": "code",
      "execution_count": 150,
      "metadata": {
        "id": "Zoo5Jd2LzfeY"
      },
      "outputs": [],
      "source": [
        "class MultiCopter():\n",
        "    def __init__(self, num_motors=4, prop_pitch=5., prop_diam=5., prop_eff=0.55, \n",
        "                       batt_cap=50, k_batt=180.,\n",
        "                       frame_width=0.05, frame_length = 0.17,\n",
        "                       k_mat=0.01, m_avionics=0.04, m_payload=0.05):\n",
        "        self.num_motors = num_motors # Motor number\n",
        "        self.batt_cap = batt_cap # Battery energy capacity in [Wh]\n",
        "        self.k_batt = k_batt # Battery specific energy in [Wh/kg]\n",
        "        self.k_mat = k_mat # Fuselage metrial density\n",
        "        self.prop_pitch = prop_pitch # Propeller pitch [in inches]\n",
        "        self.prop_diameter = prop_diam # Propeller diameter [in inches]\n",
        "        self.prop_eff = prop_eff # Guesssing a value between 0.5 - 0.75\n",
        "        self.cd_arm   = 1.5 # drag coefficient of the arms (source: Hoerner)\n",
        "        self.cd_frame = 1.2 # Realistic for a bluff body\n",
        "        self.area_arm = 0.01*self.prop_diameter*0.0254/2  #m^2, area of the arms below the propeller, constant thickness of 1cm          \n",
        "        self.angle_tilted_body = 0/180*np.pi #rad, how much is the nose of the frame tilted up in the design\n",
        "        self.frame_width = frame_width #m\n",
        "        self.frame_length = frame_length #m\n",
        "        self.area_frame_frontal = self.frame_width**2 # m^2 area of the main body of the frame as viewed from the front \n",
        "        self.area_frame_dorsal  = self.frame_width*self.frame_length # m^2 area of the main body of the frame as viewed from the top \n",
        "        self.gee = 9.81 # Gravitational acceleration\n",
        "        self.rho = 1.225 # Get this out of ISA\n",
        "        self.m_payload = m_payload\n",
        "        self.m_avionics = m_avionics\n",
        "        self.estimate_mass() # Initial mass\n",
        "\n",
        "    def estimate_mass(self):\n",
        "        '''Updates the total mass estimation'''\n",
        "        self.m_batt = self.batt_cap/self.k_batt\n",
        "        self.m_frame = self.k_mat*self.prop_diameter*self.num_motors # mass of the frame per inches \n",
        "        self.mass = self.m_payload + self.m_avionics + self.m_frame + self.m_batt\n",
        "    \n",
        "    def prop_force(self,rpm, V_0=0):\n",
        "        V_pitch = rpm*self.prop_pitch/60*0.0254\n",
        "        V_e = self.prop_eff * V_pitch\n",
        "        A = np.pi*(self.prop_diameter/2*0.0254)**2\n",
        "        m_dot = A*V_e*self.rho\n",
        "        force = self.rho*A*(V_e**2-V_e*V_0)\n",
        "        return force\n",
        "\n",
        "    def calc_level_V_and_drag(self,rpm):\n",
        "        # Initial Total Thrust from all motors at zero forward speed\n",
        "        T_total = self.prop_force(rpm, V_0=0.)*self.num_motors\n",
        "        # Find bank angle , initiate drag and theta to zero for start\n",
        "        drag = 0. ; theta = 0. ; V=0.\n",
        "        while T_total*np.sin(theta) >= drag and T_total*np.cos(theta) >= self.mass*self.gee:\n",
        "            theta += 0.001\n",
        "            # required forward thrust component\n",
        "            T_forward = np.tan(theta) * self.mass*self.gee\n",
        "            # Final velocity from given acceleration (assume 1s of impulse)\n",
        "            V += T_forward/self.mass\n",
        "            # Drag of the fuselage\n",
        "            area_frame_horizontal = np.abs(np.sin(theta-self.angle_tilted_body)*self.area_frame_dorsal) + np.abs(np.cos(theta-self.angle_tilted_body)*self.area_frame_frontal) #m^2\n",
        "            # Optional : Drag of the motor arms embedded inside propeller slipstream\n",
        "            # Final drag\n",
        "            drag = 0.5 * 1.225 * V**2 * area_frame_horizontal * self.cd_frame\n",
        "            T_total = self.prop_force(rpm, V_0=V)*self.num_motors\n",
        "            \n",
        "        # print(f' Theta : {theta*180/3.14}deg, V : {V} , drag : {drag} ')\n",
        "        return theta, V, drag\n",
        "\n",
        "    def rpm_at_V(self, V):\n",
        "        '''# def find_rpm(rpm):\n",
        "        #     _,V_rpm,_ = self.calc_level_V_and_drag(rpm)\n",
        "        #     return V-V_rpm\n",
        "        # rpm_at_V = optimize.newton(find_rpm, 10000.)'''\n",
        "        rpm = 1000. ; V_rpm = 0.\n",
        "        while V >= V_rpm:\n",
        "            _,V_rpm,_ = self.calc_level_V_and_drag(rpm)\n",
        "            rpm += 10.\n",
        "    \n",
        "        return rpm\n",
        "\n",
        "    def power_required(self,rpm, V):\n",
        "        # An efficiency can be use such as L/D ratio to define the ratio between Thrust and Drag, and Torque is directly proportional to drag...\n",
        "        T_over_D = self.prop_diameter/2.5 # a very rough approximation ... Need to be fixed !\n",
        "        T = self.prop_force(rpm, V_0=V)\n",
        "        Q = T * self.prop_diameter*0.0254/2 # multiplied with R\n",
        "        P_required = Q * rpm * 2. * np.pi / 60. / T_over_D\n",
        "        return P_required\n",
        "    \n",
        "    def power_at_V(self, V):\n",
        "        rpm = self.rpm_at_V(V)\n",
        "        return self.power_required(rpm,V)*self.num_motors\n",
        "\n",
        "    def performance_at_V(self,V):\n",
        "        P_req = self.power_at_V(V)\n",
        "        endurance = self.batt_cap/P_req*3600\n",
        "        range = V*endurance\n",
        "        return range, endurance\n"
      ]
    },
    {
      "cell_type": "code",
      "execution_count": 151,
      "metadata": {
        "id": "KBpkA1JBzfbz"
      },
      "outputs": [],
      "source": [
        "from scipy import optimize\n",
        "mc = MultiCopter(prop_diam=5.)"
      ]
    },
    {
      "cell_type": "code",
      "execution_count": 138,
      "metadata": {},
      "outputs": [
        {
          "data": {
            "text/plain": [
              "0.6595379440705961"
            ]
          },
          "execution_count": 138,
          "metadata": {},
          "output_type": "execute_result"
        }
      ],
      "source": [
        "# Propeller force at 4000 RPM\n",
        "mc.prop_force(4000)"
      ]
    },
    {
      "cell_type": "code",
      "execution_count": 117,
      "metadata": {
        "id": "D5Xl_lKCzfVA"
      },
      "outputs": [
        {
          "data": {
            "text/plain": [
              "(0.03000000000000002, 4.562357231055003, 0.04213122810018111)"
            ]
          },
          "execution_count": 117,
          "metadata": {},
          "output_type": "execute_result"
        }
      ],
      "source": [
        "# Inclination angle, Velocity and drag for 10000 RPM\n",
        "mc.calc_level_V_and_drag(10000)"
      ]
    },
    {
      "cell_type": "code",
      "execution_count": 118,
      "metadata": {
        "id": "bopkMHt1zfSN"
      },
      "outputs": [
        {
          "data": {
            "text/plain": [
              "32780.0"
            ]
          },
          "execution_count": 118,
          "metadata": {},
          "output_type": "execute_result"
        }
      ],
      "source": [
        "mc.rpm_at_V(28)"
      ]
    },
    {
      "cell_type": "code",
      "execution_count": 1,
      "metadata": {},
      "outputs": [
        {
          "ename": "NameError",
          "evalue": "name 'mc' is not defined",
          "output_type": "error",
          "traceback": [
            "\u001b[0;31m---------------------------------------------------------------------------\u001b[0m",
            "\u001b[0;31mNameError\u001b[0m                                 Traceback (most recent call last)",
            "Cell \u001b[0;32mIn [1], line 1\u001b[0m\n\u001b[0;32m----> 1\u001b[0m mc\u001b[39m.\u001b[39mpower_at_V(\u001b[39m0\u001b[39m)\n",
            "\u001b[0;31mNameError\u001b[0m: name 'mc' is not defined"
          ]
        }
      ],
      "source": [
        "mc.power_at_V(0)"
      ]
    },
    {
      "cell_type": "code",
      "execution_count": 120,
      "metadata": {},
      "outputs": [
        {
          "data": {
            "text/plain": [
              "(0.0, 19.813096622156504)"
            ]
          },
          "execution_count": 120,
          "metadata": {},
          "output_type": "execute_result"
        }
      ],
      "source": [
        "d,t = mc.performance_at_V(0)\n",
        "d,t/60."
      ]
    },
    {
      "attachments": {},
      "cell_type": "markdown",
      "metadata": {},
      "source": [
        "# Now lets try to optimize the propeller and frame "
      ]
    },
    {
      "cell_type": "code",
      "execution_count": 153,
      "metadata": {},
      "outputs": [
        {
          "name": "stdout",
          "output_type": "stream",
          "text": [
            "Found best with metric : 500.30527599215486\n",
            "Found best with metric : 504.975330643015\n",
            "Found best with metric : 508.9555523907894\n",
            "Found best with metric : 511.5547437363572\n",
            "Found best with metric : 800.8749518913761\n",
            "Found best with metric : 815.3582701592038\n",
            "Found best with metric : 831.7512574763148\n",
            "Found best with metric : 840.0408916021482\n",
            "Found best with metric : 988.4974505866014\n",
            "Found best with metric : 1019.3726830895894\n",
            "Found best with metric : 1042.3026583169894\n",
            "Found best with metric : 1063.0666959460589\n",
            "Found best with metric : 1110.3081789510684\n",
            "Found best with metric : 1149.4966713737238\n",
            "Found best with metric : 1188.7198663221325\n",
            "Found best with metric : 1218.3107269151426\n",
            "Found best with metric : 1240.7292653174295\n",
            "Found best with metric : 1286.3168743669528\n",
            "Found best with metric : 1324.518177352688\n",
            "Found best with metric : 1356.1477515878223\n",
            "Found best with metric : 1403.1550407763878\n",
            "Found best with metric : 1452.3747775705365\n",
            "Found best with metric : 1491.4132470447732\n"
          ]
        }
      ],
      "source": [
        "batt_array = np.arange(10,90,10)\n",
        "V_array = np.arange(0,16,2)\n",
        "prop_diam_array = np.arange(5,7,0.5)\n",
        "\n",
        "best = np.zeros(10)\n",
        "for batt in batt_array:\n",
        "    for prop_diam in prop_diam_array:\n",
        "        for V in V_array:\n",
        "            mc=MultiCopter(batt_cap=batt, prop_diam=prop_diam)\n",
        "            r,t = mc.performance_at_V(V)\n",
        "\n",
        "            # Now you can choose what to optimize\n",
        "            # best[0] = r if r > best[0] else best[0]\n",
        "            # best[1] = t if t > best[1] else best[1]\n",
        "\n",
        "            # or better do a performance metric to record the best candidate\n",
        "            metric = t # or r*t just as an example\n",
        "            if best[0] < metric:\n",
        "                best[0] = metric\n",
        "                best[1:6] = [r, t, batt, prop_diam, V]\n",
        "                print(f'Found best with metric : {metric}')\n"
      ]
    },
    {
      "cell_type": "code",
      "execution_count": 154,
      "metadata": {},
      "outputs": [
        {
          "data": {
            "text/plain": [
              "array([1491.41324704,    0.        , 1491.41324704,   80.        ,\n",
              "          6.5       ,    0.        ,    0.        ,    0.        ,\n",
              "          0.        ,    0.        ])"
            ]
          },
          "execution_count": 154,
          "metadata": {},
          "output_type": "execute_result"
        }
      ],
      "source": [
        "best"
      ]
    },
    {
      "cell_type": "code",
      "execution_count": 132,
      "metadata": {},
      "outputs": [
        {
          "data": {
            "text/plain": [
              "array([1.57048377e+07, 1.37280025e+04, 1.14400021e+03, 8.00000000e+01,\n",
              "       3.00000000e+00, 1.20000000e+01, 0.00000000e+00, 0.00000000e+00,\n",
              "       0.00000000e+00, 0.00000000e+00])"
            ]
          },
          "execution_count": 132,
          "metadata": {},
          "output_type": "execute_result"
        }
      ],
      "source": [
        "best"
      ]
    },
    {
      "cell_type": "markdown",
      "metadata": {
        "deletable": true,
        "editable": true,
        "id": "qOcSm_ulS-Ig"
      },
      "source": [
        "<a href=\"https://colab.research.google.com/github/mrtbrnz/Intro2UAS/blob/master/notebooks/00_simple_MultiCopter_design.ipynb\">\n",
        "<img align=\"left\" src=\"https://colab.research.google.com/assets/colab-badge.svg\" alt=\"Open in Colab\" title=\"Open and Execute in Google Colaboratory\"></a>\n"
      ]
    },
    {
      "cell_type": "markdown",
      "metadata": {
        "id": "2hjdlEw87zrW"
      },
      "source": []
    }
  ],
  "metadata": {
    "anaconda-cloud": {},
    "colab": {
      "provenance": []
    },
    "kernelspec": {
      "display_name": "Python 3",
      "language": "python",
      "name": "python3"
    },
    "language_info": {
      "codemirror_mode": {
        "name": "ipython",
        "version": 3
      },
      "file_extension": ".py",
      "mimetype": "text/x-python",
      "name": "python",
      "nbconvert_exporter": "python",
      "pygments_lexer": "ipython3",
      "version": "3.10.9"
    },
    "vscode": {
      "interpreter": {
        "hash": "aee8b7b246df8f9039afb4144a1f6fd8d2ca17a180786b69acc140d282b71a49"
      }
    }
  },
  "nbformat": 4,
  "nbformat_minor": 0
}
